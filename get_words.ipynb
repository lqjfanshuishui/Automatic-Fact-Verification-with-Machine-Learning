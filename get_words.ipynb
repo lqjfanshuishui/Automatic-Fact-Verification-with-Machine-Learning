{
 "cells": [
  {
   "cell_type": "markdown",
   "metadata": {},
   "source": [
    "## Getting all the word from trainning dataset claims and evidences\n",
    "\n",
    "\n"
   ]
  },
  {
   "cell_type": "code",
   "execution_count": 3,
   "metadata": {},
   "outputs": [
    {
     "name": "stdout",
     "output_type": "stream",
     "text": [
      "===========start predict===========\n",
      "==============fiinished============\n"
     ]
    }
   ],
   "source": [
    "#PREPROCESS\n",
    "\n",
    "import json\n",
    "import io\n",
    "import nltk\n",
    "\n",
    "sentence_dict = {}\n",
    "prefix = \"./wiki-pages-text/wiki-\"\n",
    "suffix  = \".txt\"\n",
    "for i in range(109):\n",
    "    if i <9:\n",
    "        wikiNum = \"00\"+str(i+1)\n",
    "    elif i<99:\n",
    "        wikiNum = \"0\"+str(i+1)\n",
    "    else:\n",
    "        wikiNum = str(i+1)\n",
    "    filename = prefix+wikiNum+suffix\n",
    "    for line in open(filename):\n",
    "        \n",
    "        doc_title,sent_id,sent_content = line.split(\" \",2)\n",
    "        if sent_id.isalpha():\n",
    "            pass\n",
    "        else:\n",
    "            sentence_dict[(doc_title,sent_id)] = sent_content\n",
    "\n",
    "print(\"===========start===========\")\n",
    "def getSentence(evidence_list, sent_dict):\n",
    "    sentences = []\n",
    "    for evidence in evidence_list:\n",
    "        try:\n",
    "            sentences.append(sent_dict[(evidence[0],str(evidence[1]))])\n",
    "        except Exception as e:\n",
    "            pass\n",
    "\n",
    "    return sentences\n",
    "\n",
    "with open('train.json', 'r') as f:\n",
    "    data = json.load(f)\n",
    "\n",
    "\n",
    "for claim_id in data:\n",
    "    evidences = data[claim_id]['evidence']\n",
    "    claim = data[claim_id]['claim']\n",
    "    sents = getSentence(evidences, sentence_dict)\n",
    "    sents.append(claim)\n",
    "    for sent in sents:\n",
    "        tokenizer = nltk.RegexpTokenizer(r'\\w+')\n",
    "        a = tokenizer.tokenize(sent)\n",
    "        \n",
    "\n",
    "\n",
    "        with open('train_data.txt', 'a', encoding='utf-8') as output:\n",
    "            output.write(' '.join(a))\n",
    "\n",
    "print('==============fiinished============')  \n",
    "    "
   ]
  },
  {
   "cell_type": "code",
   "execution_count": null,
   "metadata": {},
   "outputs": [],
   "source": []
  }
 ],
 "metadata": {
  "kernelspec": {
   "display_name": "Python 3",
   "language": "python",
   "name": "python3"
  },
  "language_info": {
   "codemirror_mode": {
    "name": "ipython",
    "version": 3
   },
   "file_extension": ".py",
   "mimetype": "text/x-python",
   "name": "python",
   "nbconvert_exporter": "python",
   "pygments_lexer": "ipython3",
   "version": "3.7.1"
  }
 },
 "nbformat": 4,
 "nbformat_minor": 2
}
