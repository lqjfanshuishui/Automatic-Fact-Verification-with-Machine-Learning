{
 "cells": [
  {
   "cell_type": "markdown",
   "metadata": {},
   "source": [
    "## Using all the words in the trainning dataset to train a word2vec model and save the model for evidence selection part"
   ]
  },
  {
   "cell_type": "code",
   "execution_count": 12,
   "metadata": {},
   "outputs": [],
   "source": [
    "from gensim.models import word2vec\n",
    "\n",
    "num_features = 64    \n",
    "min_word_count = 10   \n",
    "num_workers = 16      \n",
    "context = 10         \n",
    "downsampling = 1e-3   \n",
    "sentences = word2vec.Text8Corpus(\"train_data.txt\")\n",
    "\n",
    "model = word2vec.Word2Vec(sentences, workers=num_workers, \\\n",
    "        size=num_features, min_count = min_word_count, \\\n",
    "        window = context, sg = 1, sample = downsampling)\n",
    "model.init_sims(replace=True)\n",
    "    \n",
    "model.save(\"modelTEST\")\n",
    "    \n"
   ]
  }
 ],
 "metadata": {
  "kernelspec": {
   "display_name": "Python 3",
   "language": "python",
   "name": "python3"
  },
  "language_info": {
   "codemirror_mode": {
    "name": "ipython",
    "version": 3
   },
   "file_extension": ".py",
   "mimetype": "text/x-python",
   "name": "python",
   "nbconvert_exporter": "python",
   "pygments_lexer": "ipython3",
   "version": "3.7.1"
  }
 },
 "nbformat": 4,
 "nbformat_minor": 2
}
